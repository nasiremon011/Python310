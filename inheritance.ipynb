{
 "cells": [
  {
   "cell_type": "markdown",
   "metadata": {},
   "source": [
    "# Inheritance\n",
    "# Single Inheritance"
   ]
  },
  {
   "cell_type": "code",
   "execution_count": 28,
   "metadata": {},
   "outputs": [],
   "source": [
    "# Base Class or Super Class\n",
    "class Product:\n",
    "    platform = 'Amazon'\n",
    "\n",
    "    def __init__(self, pid: int, title: str):\n",
    "        self.pid = pid\n",
    "        self.title = title\n",
    "        self.__code = 454545\n",
    "\n",
    "    def getCode(self):\n",
    "        return self.__code\n",
    "\n",
    "    def __repr__(self):\n",
    "        return f\"Product(pid = {self.pid}, title = '{self.title}')\"\n",
    "    \n",
    "    \n"
   ]
  },
  {
   "cell_type": "code",
   "execution_count": 29,
   "metadata": {},
   "outputs": [],
   "source": [
    "# Derived Class or Sub Class\n",
    "class Cloth(Product):\n",
    "    # Overriding (Runtime Polymorphism)\n",
    "    def __init__(self, pid: int, title: str, category: str):\n",
    "        self.category = category\n",
    "        super().__init__(pid, title)\n",
    "        \n",
    "    def __repr__(self):\n",
    "        return f\"Product(pid = {self.pid}, title = '{self.title}', category = {self.category})\"\n"
   ]
  },
  {
   "cell_type": "code",
   "execution_count": 30,
   "metadata": {},
   "outputs": [
    {
     "data": {
      "text/plain": [
       "Product(pid = 123, title = 'T-Shirt', category = Cloth)"
      ]
     },
     "execution_count": 30,
     "metadata": {},
     "output_type": "execute_result"
    }
   ],
   "source": [
    "obj = Cloth(123,'T-Shirt', 'Cloth')\n",
    "obj"
   ]
  },
  {
   "cell_type": "code",
   "execution_count": 31,
   "metadata": {},
   "outputs": [
    {
     "data": {
      "text/plain": [
       "454545"
      ]
     },
     "execution_count": 31,
     "metadata": {},
     "output_type": "execute_result"
    }
   ],
   "source": [
    "obj.getCode()"
   ]
  },
  {
   "cell_type": "markdown",
   "metadata": {},
   "source": [
    "## Multilevel Inheritance"
   ]
  },
  {
   "cell_type": "code",
   "execution_count": 32,
   "metadata": {},
   "outputs": [],
   "source": [
    "class TopWear(Cloth):\n",
    "    # Overriding (Runtime Polymorphism)\n",
    "    def __init__(self, pid: int, title: str, category: str, sub_cat: str):\n",
    "        self.sub_cat = sub_cat\n",
    "        super().__init__(pid, title, category)\n",
    "\n",
    "    def __repr__(self):\n",
    "        return f\"Product(pid = {self.pid}, title = '{self.title}', category = {self.category}, sub_cat= {self.sub_cat})\"\n"
   ]
  },
  {
   "cell_type": "code",
   "execution_count": 33,
   "metadata": {},
   "outputs": [
    {
     "data": {
      "text/plain": [
       "Product(pid = 123, title = 'T-Shirt', category = Cloth, sub_cat= Top Wear)"
      ]
     },
     "execution_count": 33,
     "metadata": {},
     "output_type": "execute_result"
    }
   ],
   "source": [
    "top1 = TopWear(123,'T-Shirt', 'Cloth', 'Top Wear')\n",
    "top1"
   ]
  },
  {
   "cell_type": "markdown",
   "metadata": {},
   "source": [
    "# Multiple Inheritance"
   ]
  },
  {
   "cell_type": "code",
   "execution_count": 41,
   "metadata": {},
   "outputs": [],
   "source": [
    "class Seller:\n",
    "    def __init__(self, sid: str, s_name:str):\n",
    "        self.sid = sid\n",
    "        self.s_name = s_name\n",
    "\n",
    "    def __init__(self):\n",
    "        return f\"Seller(sid = {self.sid}, s_name ='{self.s_name}')\"\n"
   ]
  },
  {
   "cell_type": "code",
   "execution_count": 39,
   "metadata": {},
   "outputs": [],
   "source": [
    "class BottomWear(Cloth, Seller):\n",
    "    def __init__(self, pid: int, title: str, category: str, sub_cat: str, sid: int,s_name: str):\n",
    "        self.sub_cat = sub_cat\n",
    "        Cloth.__init__(self, pid, title, category)\n",
    "        Seller.__init__(self, sid, s_name)\n",
    "\n",
    "    def getClothInfo(self):\n",
    "        return Cloth.__repr__(self)\n",
    "    \n",
    "    def getSellerInfo(self):\n",
    "        return Seller.__repr__(self)\n"
   ]
  },
  {
   "cell_type": "code",
   "execution_count": 42,
   "metadata": {},
   "outputs": [
    {
     "ename": "TypeError",
     "evalue": "Seller.__init__() takes 1 positional argument but 3 were given",
     "output_type": "error",
     "traceback": [
      "\u001b[1;31m---------------------------------------------------------------------------\u001b[0m",
      "\u001b[1;31mTypeError\u001b[0m                                 Traceback (most recent call last)",
      "\u001b[1;32me:\\Python\\Python Repository\\Python310\\inheritance.ipynb Cell 12'\u001b[0m in \u001b[0;36m<cell line: 1>\u001b[1;34m()\u001b[0m\n\u001b[1;32m----> <a href='vscode-notebook-cell:/e%3A/Python/Python%20Repository/Python310/inheritance.ipynb#ch0000011?line=0'>1</a>\u001b[0m bot1 \u001b[39m=\u001b[39m BottomWear(\u001b[39m123\u001b[39m, \u001b[39m\"\u001b[39m\u001b[39mT-Shirt\u001b[39m\u001b[39m\"\u001b[39m, \u001b[39m'\u001b[39m\u001b[39mCloths\u001b[39m\u001b[39m'\u001b[39m,\u001b[39m'\u001b[39m\u001b[39mBottom Wear\u001b[39m\u001b[39m'\u001b[39m, \u001b[39m'\u001b[39m\u001b[39m1213\u001b[39m\u001b[39m'\u001b[39m, \u001b[39m'\u001b[39m\u001b[39mabc\u001b[39m\u001b[39m'\u001b[39m)\n\u001b[0;32m      <a href='vscode-notebook-cell:/e%3A/Python/Python%20Repository/Python310/inheritance.ipynb#ch0000011?line=1'>2</a>\u001b[0m bot1\n",
      "\u001b[1;32me:\\Python\\Python Repository\\Python310\\inheritance.ipynb Cell 11'\u001b[0m in \u001b[0;36mBottomWear.__init__\u001b[1;34m(self, pid, title, category, sub_cat, sid, s_name)\u001b[0m\n\u001b[0;32m      <a href='vscode-notebook-cell:/e%3A/Python/Python%20Repository/Python310/inheritance.ipynb#ch0000010?line=2'>3</a>\u001b[0m \u001b[39mself\u001b[39m\u001b[39m.\u001b[39msub_cat \u001b[39m=\u001b[39m sub_cat\n\u001b[0;32m      <a href='vscode-notebook-cell:/e%3A/Python/Python%20Repository/Python310/inheritance.ipynb#ch0000010?line=3'>4</a>\u001b[0m Cloth\u001b[39m.\u001b[39m\u001b[39m__init__\u001b[39m(\u001b[39mself\u001b[39m, pid, title, category)\n\u001b[1;32m----> <a href='vscode-notebook-cell:/e%3A/Python/Python%20Repository/Python310/inheritance.ipynb#ch0000010?line=4'>5</a>\u001b[0m Seller\u001b[39m.\u001b[39;49m\u001b[39m__init__\u001b[39;49m(\u001b[39mself\u001b[39;49m, sid, s_name)\n",
      "\u001b[1;31mTypeError\u001b[0m: Seller.__init__() takes 1 positional argument but 3 were given"
     ]
    }
   ],
   "source": [
    "bot1 = BottomWear(123, \"T-Shirt\", 'Cloths','Bottom Wear', '1213', 'abc')\n",
    "bot1\n"
   ]
  },
  {
   "cell_type": "code",
   "execution_count": null,
   "metadata": {},
   "outputs": [
    {
     "ename": "NameError",
     "evalue": "name 'b2' is not defined",
     "output_type": "error",
     "traceback": [
      "\u001b[1;31m---------------------------------------------------------------------------\u001b[0m",
      "\u001b[1;31mNameError\u001b[0m                                 Traceback (most recent call last)",
      "\u001b[1;32me:\\Python\\Python Repository\\Python310\\inheritance.ipynb Cell 13'\u001b[0m in \u001b[0;36m<cell line: 1>\u001b[1;34m()\u001b[0m\n\u001b[1;32m----> <a href='vscode-notebook-cell:/e%3A/Python/Python%20Repository/Python310/inheritance.ipynb#ch0000012?line=0'>1</a>\u001b[0m b2\u001b[39m.\u001b[39mgetSellerInfo()\n",
      "\u001b[1;31mNameError\u001b[0m: name 'b2' is not defined"
     ]
    }
   ],
   "source": [
    "bot1.getSellerInfo()"
   ]
  }
 ],
 "metadata": {
  "interpreter": {
   "hash": "63b2014fe923bc11fc1089a45e8d8d32d8530e11d1dfc98edf4ada9c05eba13b"
  },
  "kernelspec": {
   "display_name": "Python 3.10.2 64-bit",
   "language": "python",
   "name": "python3"
  },
  "language_info": {
   "codemirror_mode": {
    "name": "ipython",
    "version": 3
   },
   "file_extension": ".py",
   "mimetype": "text/x-python",
   "name": "python",
   "nbconvert_exporter": "python",
   "pygments_lexer": "ipython3",
   "version": "3.10.2"
  },
  "orig_nbformat": 4
 },
 "nbformat": 4,
 "nbformat_minor": 2
}
