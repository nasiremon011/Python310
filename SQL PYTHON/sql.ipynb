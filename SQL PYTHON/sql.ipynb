{
 "cells": [
  {
   "cell_type": "code",
   "execution_count": 2,
   "metadata": {},
   "outputs": [],
   "source": [
    "import sqlite3 as sq3\n"
   ]
  },
  {
   "cell_type": "markdown",
   "metadata": {},
   "source": [
    "## Connect , Create DB & Create Table"
   ]
  },
  {
   "cell_type": "code",
   "execution_count": 3,
   "metadata": {},
   "outputs": [],
   "source": [
    "conn = sq3.connect('example.db')\n",
    "cursor = conn.cursor()\n",
    "\n",
    "cursor.execute(\"\"\"CREATE TABLE students(roll INT PRIMARY KEY, name TEXT, age INT)\"\"\" )\n",
    "conn.close()\n",
    "\n"
   ]
  },
  {
   "cell_type": "markdown",
   "metadata": {},
   "source": [
    "## Inserting Data"
   ]
  },
  {
   "cell_type": "code",
   "execution_count": 11,
   "metadata": {},
   "outputs": [],
   "source": [
    "with sq3.connect('example.db') as conn:\n",
    "    cursor = conn.cursor()\n",
    "    cursor.execute(\n",
    "        \"\"\"INSERT INTO students VALUES(?,?,?)\"\"\", (\n",
    "            5,\"Emon\" , 36\n",
    "        )\n",
    "    )"
   ]
  },
  {
   "cell_type": "code",
   "execution_count": 25,
   "metadata": {},
   "outputs": [
    {
     "data": {
      "text/plain": [
       "[(6, 'User6', 11),\n",
       " (7, 'User7', 12),\n",
       " (8, 'User8', 13),\n",
       " (9, 'User9', 14),\n",
       " (10, 'User10', 15),\n",
       " (11, 'User11', 16),\n",
       " (12, 'User12', 17),\n",
       " (13, 'User13', 18),\n",
       " (14, 'User14', 19),\n",
       " (15, 'User15', 20),\n",
       " (16, 'User16', 21),\n",
       " (17, 'User17', 22),\n",
       " (18, 'User18', 23),\n",
       " (19, 'User19', 24)]"
      ]
     },
     "execution_count": 25,
     "metadata": {},
     "output_type": "execute_result"
    }
   ],
   "source": [
    "users = []\n",
    "for roll in range(6,20):\n",
    "    user = (roll, f\"User{roll}\", roll+5)\n",
    "    users.append(user)\n",
    "users\n"
   ]
  },
  {
   "cell_type": "code",
   "execution_count": 26,
   "metadata": {},
   "outputs": [],
   "source": [
    "with sq3.connect('example.db') as conn:\n",
    "    cursor = conn.cursor()\n",
    "    cursor.executemany(\n",
    "        \"\"\"INSERT INTO students VALUES(?,?,?)\"\"\", users\n",
    "    )\n"
   ]
  },
  {
   "cell_type": "markdown",
   "metadata": {},
   "source": [
    "## Fetching Data from DB"
   ]
  },
  {
   "cell_type": "code",
   "execution_count": 27,
   "metadata": {},
   "outputs": [
    {
     "name": "stdout",
     "output_type": "stream",
     "text": [
      "[(1, 'Jahidur Rahman', 24), (2, 'Nasir', 26), (3, 'Emon', 30), (4, 'Emon', 35), (5, 'Emon', 36), (6, 'User6', 11), (7, 'User7', 12), (8, 'User8', 13), (9, 'User9', 14), (10, 'User10', 15), (11, 'User11', 16), (12, 'User12', 17), (13, 'User13', 18), (14, 'User14', 19), (15, 'User15', 20), (16, 'User16', 21), (17, 'User17', 22), (18, 'User18', 23), (19, 'User19', 24)]\n"
     ]
    }
   ],
   "source": [
    "with sq3.connect('example.db') as conn:\n",
    "    cursor = conn.cursor()\n",
    "    result = cursor.execute(\n",
    "        \"\"\"SELECT * FROM students\"\"\"\n",
    "    )\n",
    "    print(list(result))"
   ]
  },
  {
   "cell_type": "code",
   "execution_count": 17,
   "metadata": {},
   "outputs": [
    {
     "data": {
      "text/plain": [
       "[(0, 'User0', 5),\n",
       " (1, 'User1', 6),\n",
       " (2, 'User2', 7),\n",
       " (3, 'User3', 8),\n",
       " (4, 'User4', 9),\n",
       " (5, 'User5', 10),\n",
       " (6, 'User6', 11),\n",
       " (7, 'User7', 12),\n",
       " (8, 'User8', 13),\n",
       " (9, 'User9', 14),\n",
       " (10, 'User10', 15),\n",
       " (11, 'User11', 16),\n",
       " (12, 'User12', 17),\n",
       " (13, 'User13', 18),\n",
       " (14, 'User14', 19),\n",
       " (15, 'User15', 20),\n",
       " (16, 'User16', 21),\n",
       " (17, 'User17', 22),\n",
       " (18, 'User18', 23),\n",
       " (19, 'User19', 24)]"
      ]
     },
     "execution_count": 17,
     "metadata": {},
     "output_type": "execute_result"
    }
   ],
   "source": []
  },
  {
   "cell_type": "code",
   "execution_count": 31,
   "metadata": {},
   "outputs": [
    {
     "name": "stdout",
     "output_type": "stream",
     "text": [
      "[(7, 'User7', 50)]\n"
     ]
    }
   ],
   "source": [
    "with sq3.connect('example.db') as conn:\n",
    "    cursor = conn.cursor()\n",
    "    result = cursor.execute(\n",
    "        \"\"\"SELECT roll ,name,age FROM students where roll=7\"\"\"\n",
    "    )\n",
    "    print(list(result))\n"
   ]
  },
  {
   "cell_type": "code",
   "execution_count": 14,
   "metadata": {},
   "outputs": [
    {
     "name": "stdout",
     "output_type": "stream",
     "text": [
      "[(3, 'Emon'), (4, 'Emon'), (5, 'Emon')]\n"
     ]
    }
   ],
   "source": [
    "with sq3.connect('example.db') as conn:\n",
    "    cursor = conn.cursor()\n",
    "    result = cursor.execute(\n",
    "        \"\"\"SELECT roll ,name FROM students where age>=30\"\"\"\n",
    "    )\n",
    "    print(list(result))\n"
   ]
  },
  {
   "cell_type": "code",
   "execution_count": 16,
   "metadata": {},
   "outputs": [
    {
     "name": "stdout",
     "output_type": "stream",
     "text": [
      "[(5, 'Emon', 36)]\n"
     ]
    }
   ],
   "source": [
    "with sq3.connect('example.db') as conn:\n",
    "    cursor = conn.cursor()\n",
    "    result = cursor.execute(\n",
    "        \"\"\"SELECT roll ,name, MAX(age) FROM students\"\"\"\n",
    "    )\n",
    "    print(list(result))\n"
   ]
  },
  {
   "cell_type": "markdown",
   "metadata": {},
   "source": [
    "## Update Command"
   ]
  },
  {
   "cell_type": "code",
   "execution_count": 29,
   "metadata": {},
   "outputs": [],
   "source": [
    "with sq3.connect('example.db') as conn:\n",
    "    cursor = conn.cursor()\n",
    "    result = cursor.execute(\n",
    "        \"\"\"UPDATE students SET age=50 where roll=7\"\"\"\n",
    "    )\n",
    "\n"
   ]
  },
  {
   "cell_type": "markdown",
   "metadata": {},
   "source": [
    "## Drop Table"
   ]
  },
  {
   "cell_type": "code",
   "execution_count": null,
   "metadata": {},
   "outputs": [],
   "source": [
    "with sq3.connect('example.db') as conn:\n",
    "    cursor = conn.cursor()\n",
    "    cursor.execute(\n",
    "        \"\"\"DROP table if exists students\"\"\"\n",
    "    )\n"
   ]
  },
  {
   "cell_type": "markdown",
   "metadata": {},
   "source": [
    "# Create a table college students(roll,name,age,dept,contact)"
   ]
  },
  {
   "cell_type": "code",
   "execution_count": 32,
   "metadata": {},
   "outputs": [],
   "source": [
    "conn = sq3.connect('example.db')\n",
    "cursor = conn.cursor()\n",
    "\n",
    "cursor.execute(\n",
    "    \"\"\"CREATE TABLE collegestudents(roll INT PRIMARY KEY, name TEXT, age INT,deptname TEXT, contact INT)\"\"\")\n",
    "conn.close()\n"
   ]
  },
  {
   "cell_type": "markdown",
   "metadata": {},
   "source": [
    "## Inserting value"
   ]
  },
  {
   "cell_type": "code",
   "execution_count": 36,
   "metadata": {},
   "outputs": [],
   "source": [
    "with sq3.connect('example.db') as conn:\n",
    "    cursor = conn.cursor()\n",
    "    cursor.execute(\n",
    "        \"\"\"INSERT INTO collegestudents VALUES(?,?,?,?,?)\"\"\", (\n",
    "            1, \"Nasir Uddin\", 25, \"CSE\", 1724453709\n",
    "        )\n",
    "    )\n"
   ]
  },
  {
   "cell_type": "code",
   "execution_count": 37,
   "metadata": {},
   "outputs": [
    {
     "name": "stdout",
     "output_type": "stream",
     "text": [
      "[(1, 'Nasir Uddin', 25, 'CSE', 1724453709)]\n"
     ]
    }
   ],
   "source": [
    "with sq3.connect('example.db') as conn:\n",
    "    cursor = conn.cursor()\n",
    "    result = cursor.execute(\n",
    "        \"\"\"SELECT * FROM collegestudents \"\"\"\n",
    "    )\n",
    "    print(list(result))\n"
   ]
  },
  {
   "cell_type": "markdown",
   "metadata": {},
   "source": [
    "# Create a table for dept(id,name,sub,age,contact)"
   ]
  },
  {
   "cell_type": "code",
   "execution_count": 38,
   "metadata": {},
   "outputs": [],
   "source": [
    "conn = sq3.connect('example.db')\n",
    "cursor = conn.cursor()\n",
    "\n",
    "cursor.execute(\n",
    "    \"\"\"CREATE TABLE dept(id INT PRIMARY KEY, name TEXT, sub TEXT,age INT, contact TEXT)\"\"\")\n",
    "conn.close()\n"
   ]
  },
  {
   "cell_type": "code",
   "execution_count": 39,
   "metadata": {},
   "outputs": [],
   "source": [
    "with sq3.connect('example.db') as conn:\n",
    "    cursor = conn.cursor()\n",
    "    cursor.execute(\n",
    "        \"\"\"INSERT INTO dept VALUES(?,?,?,?,?)\"\"\", (\n",
    "            1, \"Emon\", \"Science\", 17, \"01724453709\"\n",
    "        )\n",
    "    )\n"
   ]
  },
  {
   "cell_type": "code",
   "execution_count": 40,
   "metadata": {},
   "outputs": [
    {
     "name": "stdout",
     "output_type": "stream",
     "text": [
      "[(1, 'Emon', 'Science', 17, '01724453709')]\n"
     ]
    }
   ],
   "source": [
    "with sq3.connect('example.db') as conn:\n",
    "    cursor = conn.cursor()\n",
    "    result = cursor.execute(\n",
    "        \"\"\"SELECT * FROM dept \"\"\"\n",
    "    )\n",
    "    print(list(result))\n"
   ]
  }
 ],
 "metadata": {
  "interpreter": {
   "hash": "63b2014fe923bc11fc1089a45e8d8d32d8530e11d1dfc98edf4ada9c05eba13b"
  },
  "kernelspec": {
   "display_name": "Python 3.10.2 64-bit",
   "language": "python",
   "name": "python3"
  },
  "language_info": {
   "codemirror_mode": {
    "name": "ipython",
    "version": 3
   },
   "file_extension": ".py",
   "mimetype": "text/x-python",
   "name": "python",
   "nbconvert_exporter": "python",
   "pygments_lexer": "ipython3",
   "version": "3.10.2"
  },
  "orig_nbformat": 4
 },
 "nbformat": 4,
 "nbformat_minor": 2
}
