{
 "cells": [
  {
   "cell_type": "markdown",
   "metadata": {},
   "source": [
    "# Exception Handalling"
   ]
  },
  {
   "cell_type": "code",
   "execution_count": 2,
   "metadata": {},
   "outputs": [
    {
     "ename": "ZeroDivisionError",
     "evalue": "division by zero",
     "output_type": "error",
     "traceback": [
      "\u001b[1;31m---------------------------------------------------------------------------\u001b[0m",
      "\u001b[1;31mZeroDivisionError\u001b[0m                         Traceback (most recent call last)",
      "\u001b[1;32me:\\Python\\Python Repository\\Python310\\exception.ipynb Cell 2'\u001b[0m in \u001b[0;36m<cell line: 2>\u001b[1;34m()\u001b[0m\n\u001b[0;32m      <a href='vscode-notebook-cell:/e%3A/Python/Python%20Repository/Python310/exception.ipynb#ch0000003?line=0'>1</a>\u001b[0m num \u001b[39m=\u001b[39m \u001b[39m5\u001b[39m\n\u001b[1;32m----> <a href='vscode-notebook-cell:/e%3A/Python/Python%20Repository/Python310/exception.ipynb#ch0000003?line=1'>2</a>\u001b[0m r \u001b[39m=\u001b[39m num\u001b[39m/\u001b[39m\u001b[39m0\u001b[39m\n\u001b[0;32m      <a href='vscode-notebook-cell:/e%3A/Python/Python%20Repository/Python310/exception.ipynb#ch0000003?line=2'>3</a>\u001b[0m \u001b[39mprint\u001b[39m(\u001b[39m\"\u001b[39m\u001b[39mWelcome!\u001b[39m\u001b[39m\"\u001b[39m)\n",
      "\u001b[1;31mZeroDivisionError\u001b[0m: division by zero"
     ]
    }
   ],
   "source": [
    "num = 5\n",
    "r = num/0\n",
    "print(\"Welcome!\")"
   ]
  },
  {
   "cell_type": "code",
   "execution_count": 4,
   "metadata": {},
   "outputs": [
    {
     "name": "stdout",
     "output_type": "stream",
     "text": [
      "division by zero\n",
      "Welcome!\n"
     ]
    }
   ],
   "source": [
    "try:\n",
    "    num = 5\n",
    "    r = num/0\n",
    "except Exception as e:\n",
    "    print(e)\n",
    "print(\"Welcome!\")\n"
   ]
  },
  {
   "cell_type": "markdown",
   "metadata": {},
   "source": [
    "# Zero Division Error  "
   ]
  },
  {
   "cell_type": "code",
   "execution_count": 7,
   "metadata": {},
   "outputs": [
    {
     "name": "stdout",
     "output_type": "stream",
     "text": [
      "unsupported operand type(s) for +: 'float' and 'str'\n",
      "Welcome!\n"
     ]
    }
   ],
   "source": [
    "try:\n",
    "    num = 5\n",
    "    r = num/0\n",
    "except ZeroDivisionError as e:\n",
    "    print(e)\n",
    "except TypeError as e:\n",
    "    print(e)\n",
    "print(\"Welcome!\")\n"
   ]
  },
  {
   "cell_type": "markdown",
   "metadata": {},
   "source": [
    "# Type Error Handling"
   ]
  },
  {
   "cell_type": "code",
   "execution_count": 8,
   "metadata": {},
   "outputs": [
    {
     "name": "stdout",
     "output_type": "stream",
     "text": [
      "unsupported operand type(s) for +: 'float' and 'str'\n",
      "Welcome!\n"
     ]
    }
   ],
   "source": [
    "try:\n",
    "    num = 5\n",
    "    r = num/1 + \"Str\"\n",
    "except ZeroDivisionError as e:\n",
    "    print(e)\n",
    "except TypeError as e:\n",
    "    print(e)\n",
    "print(\"Welcome!\")\n"
   ]
  },
  {
   "cell_type": "markdown",
   "metadata": {},
   "source": [
    "# Finally Block"
   ]
  },
  {
   "cell_type": "code",
   "execution_count": 9,
   "metadata": {},
   "outputs": [
    {
     "name": "stdout",
     "output_type": "stream",
     "text": [
      "unsupported operand type(s) for +: 'float' and 'str'\n",
      "Finally\n",
      "Welcome!\n"
     ]
    }
   ],
   "source": [
    "try:\n",
    "    num = 5\n",
    "    r = num/1 + \"Str\"\n",
    "except ZeroDivisionError as e:\n",
    "    print(e)\n",
    "except TypeError as e:\n",
    "    print(e)\n",
    "finally:\n",
    "    print(\"Finally\")\n",
    "print(\"Welcome!\")\n"
   ]
  },
  {
   "cell_type": "markdown",
   "metadata": {},
   "source": [
    "# No Exception"
   ]
  },
  {
   "cell_type": "code",
   "execution_count": 10,
   "metadata": {},
   "outputs": [
    {
     "name": "stdout",
     "output_type": "stream",
     "text": [
      "No Exception\n",
      "Welcome!\n"
     ]
    }
   ],
   "source": [
    "try:\n",
    "    num = 5\n",
    "    r = num/1\n",
    "except ZeroDivisionError as e:\n",
    "    print(e)\n",
    "except TypeError as e:\n",
    "    print(e)\n",
    "else:\n",
    "    print(\"No Exception\")\n",
    "print(\"Welcome!\")\n"
   ]
  },
  {
   "cell_type": "markdown",
   "metadata": {},
   "source": [
    "## Custom Exception"
   ]
  },
  {
   "cell_type": "code",
   "execution_count": 11,
   "metadata": {},
   "outputs": [
    {
     "ename": "Exception",
     "evalue": "Age error",
     "output_type": "error",
     "traceback": [
      "\u001b[1;31m---------------------------------------------------------------------------\u001b[0m",
      "\u001b[1;31mException\u001b[0m                                 Traceback (most recent call last)",
      "\u001b[1;32me:\\Python\\Python Repository\\Python310\\exception.ipynb Cell 13'\u001b[0m in \u001b[0;36m<cell line: 2>\u001b[1;34m()\u001b[0m\n\u001b[0;32m      <a href='vscode-notebook-cell:/e%3A/Python/Python%20Repository/Python310/exception.ipynb#ch0000016?line=0'>1</a>\u001b[0m age \u001b[39m=\u001b[39m \u001b[39m14\u001b[39m\n\u001b[0;32m      <a href='vscode-notebook-cell:/e%3A/Python/Python%20Repository/Python310/exception.ipynb#ch0000016?line=1'>2</a>\u001b[0m \u001b[39mif\u001b[39;00m age \u001b[39m<\u001b[39m \u001b[39m18\u001b[39m:\n\u001b[1;32m----> <a href='vscode-notebook-cell:/e%3A/Python/Python%20Repository/Python310/exception.ipynb#ch0000016?line=2'>3</a>\u001b[0m     \u001b[39mraise\u001b[39;00m \u001b[39mException\u001b[39;00m(\u001b[39m\"\u001b[39m\u001b[39mAge error\u001b[39m\u001b[39m\"\u001b[39m)\n",
      "\u001b[1;31mException\u001b[0m: Age error"
     ]
    }
   ],
   "source": [
    "age = 14\n",
    "if age < 18:\n",
    "    raise Exception(\"Age error\")"
   ]
  },
  {
   "cell_type": "code",
   "execution_count": 13,
   "metadata": {},
   "outputs": [],
   "source": [
    "class AgeError(Exception):\n",
    "    def __init__(self, age:int, msg:str):\n",
    "        self.age = age\n",
    "        self.msg = msg\n",
    "        super().__init__(self, age, msg)"
   ]
  },
  {
   "cell_type": "code",
   "execution_count": 14,
   "metadata": {},
   "outputs": [
    {
     "ename": "AgeError",
     "evalue": "(AgeError(...), 14, 'Age error')",
     "output_type": "error",
     "traceback": [
      "\u001b[1;31m---------------------------------------------------------------------------\u001b[0m",
      "\u001b[1;31mAgeError\u001b[0m                                  Traceback (most recent call last)",
      "\u001b[1;32me:\\Python\\Python Repository\\Python310\\exception.ipynb Cell 15'\u001b[0m in \u001b[0;36m<cell line: 2>\u001b[1;34m()\u001b[0m\n\u001b[0;32m      <a href='vscode-notebook-cell:/e%3A/Python/Python%20Repository/Python310/exception.ipynb#ch0000018?line=0'>1</a>\u001b[0m age \u001b[39m=\u001b[39m \u001b[39m14\u001b[39m\n\u001b[0;32m      <a href='vscode-notebook-cell:/e%3A/Python/Python%20Repository/Python310/exception.ipynb#ch0000018?line=1'>2</a>\u001b[0m \u001b[39mif\u001b[39;00m age \u001b[39m<\u001b[39m \u001b[39m18\u001b[39m:\n\u001b[1;32m----> <a href='vscode-notebook-cell:/e%3A/Python/Python%20Repository/Python310/exception.ipynb#ch0000018?line=2'>3</a>\u001b[0m     \u001b[39mraise\u001b[39;00m AgeError(\u001b[39m14\u001b[39m, \u001b[39m\"\u001b[39m\u001b[39mAge error\u001b[39m\u001b[39m\"\u001b[39m)\n",
      "\u001b[1;31mAgeError\u001b[0m: (AgeError(...), 14, 'Age error')"
     ]
    }
   ],
   "source": [
    "age = 14\n",
    "if age < 18:\n",
    "    raise AgeError(14, \"Age error\")\n"
   ]
  },
  {
   "cell_type": "markdown",
   "metadata": {},
   "source": [
    "# Assertion Error"
   ]
  },
  {
   "cell_type": "code",
   "execution_count": 20,
   "metadata": {},
   "outputs": [
    {
     "ename": "AssertionError",
     "evalue": "Age <18",
     "output_type": "error",
     "traceback": [
      "\u001b[1;31m---------------------------------------------------------------------------\u001b[0m",
      "\u001b[1;31mAssertionError\u001b[0m                            Traceback (most recent call last)",
      "\u001b[1;32me:\\Python\\Python Repository\\Python310\\exception.ipynb Cell 17'\u001b[0m in \u001b[0;36m<cell line: 2>\u001b[1;34m()\u001b[0m\n\u001b[0;32m      <a href='vscode-notebook-cell:/e%3A/Python/Python%20Repository/Python310/exception.ipynb#ch0000020?line=0'>1</a>\u001b[0m age \u001b[39m=\u001b[39m \u001b[39m14\u001b[39m \n\u001b[1;32m----> <a href='vscode-notebook-cell:/e%3A/Python/Python%20Repository/Python310/exception.ipynb#ch0000020?line=1'>2</a>\u001b[0m \u001b[39massert\u001b[39;00m age\u001b[39m>\u001b[39m\u001b[39m18\u001b[39m, \u001b[39m\"\u001b[39m\u001b[39mAge <18\u001b[39m\u001b[39m\"\u001b[39m\n",
      "\u001b[1;31mAssertionError\u001b[0m: Age <18"
     ]
    }
   ],
   "source": [
    "age = 14 \n",
    "assert age>18, \"Age <18\""
   ]
  }
 ],
 "metadata": {
  "interpreter": {
   "hash": "63b2014fe923bc11fc1089a45e8d8d32d8530e11d1dfc98edf4ada9c05eba13b"
  },
  "kernelspec": {
   "display_name": "Python 3.10.2 64-bit",
   "language": "python",
   "name": "python3"
  },
  "language_info": {
   "codemirror_mode": {
    "name": "ipython",
    "version": 3
   },
   "file_extension": ".py",
   "mimetype": "text/x-python",
   "name": "python",
   "nbconvert_exporter": "python",
   "pygments_lexer": "ipython3",
   "version": "3.10.2"
  },
  "orig_nbformat": 4
 },
 "nbformat": 4,
 "nbformat_minor": 2
}
