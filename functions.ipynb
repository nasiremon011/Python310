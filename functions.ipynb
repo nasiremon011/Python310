{
 "cells": [
  {
   "cell_type": "markdown",
   "metadata": {},
   "source": [
    "# Functions\n"
   ]
  },
  {
   "cell_type": "code",
   "execution_count": 10,
   "metadata": {},
   "outputs": [
    {
     "name": "stdout",
     "output_type": "stream",
     "text": [
      "Hello world\n",
      "My name is yellow\n",
      "Welcome to Python!!\n"
     ]
    }
   ],
   "source": [
    "# Function definitions\n",
    "\n",
    "def greet():\n",
    "    print(\"Hello world\")\n",
    "    print(\"My name is yellow\")\n",
    "    print(\"Welcome to Python!!\")\n",
    "\n",
    "\n",
    "# Function Callings\n",
    "greet()\n"
   ]
  },
  {
   "cell_type": "markdown",
   "metadata": {},
   "source": [
    "# Function with args\n"
   ]
  },
  {
   "cell_type": "code",
   "execution_count": 57,
   "metadata": {},
   "outputs": [
    {
     "name": "stdout",
     "output_type": "stream",
     "text": [
      "This is even number\n"
     ]
    }
   ],
   "source": [
    "def is_even(num: int):\n",
    "    \"\"\"\n",
    "    This will check odd/even number\n",
    "    \"\"\"\n",
    "    if num % 2 == 0:\n",
    "        print(\"This is even number\")\n",
    "    else:\n",
    "        print(\"This is odd number\")\n",
    "\n",
    "is_even(4)\n"
   ]
  },
  {
   "cell_type": "code",
   "execution_count": 58,
   "metadata": {},
   "outputs": [
    {
     "name": "stdout",
     "output_type": "stream",
     "text": [
      "Help on function is_even in module __main__:\n",
      "\n",
      "is_even(num: int)\n",
      "    This will check odd/even number\n",
      "\n"
     ]
    }
   ],
   "source": [
    "help(is_even)"
   ]
  },
  {
   "cell_type": "code",
   "execution_count": 64,
   "metadata": {},
   "outputs": [
    {
     "data": {
      "text/plain": [
       "[False, True, True, False, False]"
      ]
     },
     "execution_count": 64,
     "metadata": {},
     "output_type": "execute_result"
    }
   ],
   "source": [
    "def is_even(*nums: int) -> bool:\n",
    "    \"\"\"\n",
    "    This will check odd/even number respectively for true/false\n",
    "    \"\"\"\n",
    "    r = []\n",
    "    for num in nums:\n",
    "        if num % 2 == 0:\n",
    "            r.append(True)\n",
    "        else:\n",
    "            r.append(False)\n",
    "    return r\n",
    "\n"
   ]
  },
  {
   "cell_type": "code",
   "execution_count": 4,
   "metadata": {},
   "outputs": [
    {
     "ename": "NameError",
     "evalue": "name 'is_even' is not defined",
     "output_type": "error",
     "traceback": [
      "\u001b[1;31m---------------------------------------------------------------------------\u001b[0m",
      "\u001b[1;31mNameError\u001b[0m                                 Traceback (most recent call last)",
      "\u001b[1;32me:\\Python\\Python Repository\\Python310\\functions.ipynb Cell 7'\u001b[0m in \u001b[0;36m<cell line: 1>\u001b[1;34m()\u001b[0m\n\u001b[1;32m----> <a href='vscode-notebook-cell:/e%3A/Python/Python%20Repository/Python310/functions.ipynb#ch0000012?line=0'>1</a>\u001b[0m is_even([\u001b[39m5\u001b[39m,\u001b[39m6\u001b[39m,\u001b[39m8\u001b[39m,\u001b[39m7\u001b[39m,\u001b[39m9\u001b[39m])\n",
      "\u001b[1;31mNameError\u001b[0m: name 'is_even' is not defined"
     ]
    }
   ],
   "source": [
    "is_even([5,6,8,7,9])"
   ]
  },
  {
   "cell_type": "code",
   "execution_count": 5,
   "metadata": {},
   "outputs": [
    {
     "data": {
      "text/plain": [
       "[False, True, True, False, False, True, False, True]"
      ]
     },
     "execution_count": 5,
     "metadata": {},
     "output_type": "execute_result"
    }
   ],
   "source": [
    "# Deferent  way\n",
    "\n",
    "def is_even(nums: list) -> bool:\n",
    "    \"\"\"\n",
    "    This will check odd/even number respectively for true/false\n",
    "    \"\"\"\n",
    "    r = []\n",
    "    for num in nums:\n",
    "        if num % 2 == 0:\n",
    "            r.append(True)\n",
    "        else:\n",
    "            r.append(False)\n",
    "    return r\n",
    "\n",
    "\n",
    "is_even([5, 6, 8, 7, 9, 454, 787, 42])\n"
   ]
  },
  {
   "cell_type": "code",
   "execution_count": 8,
   "metadata": {},
   "outputs": [
    {
     "data": {
      "text/plain": [
       "[False, True, True, False, False, True, False, True]"
      ]
     },
     "execution_count": 8,
     "metadata": {},
     "output_type": "execute_result"
    }
   ],
   "source": [
    "x = is_even([5, 6, 8, 7, 9, 454, 787, 42])\n",
    "x"
   ]
  },
  {
   "cell_type": "markdown",
   "metadata": {},
   "source": [
    "# Parameter with value"
   ]
  },
  {
   "cell_type": "code",
   "execution_count": 11,
   "metadata": {},
   "outputs": [],
   "source": [
    "def login(username: str = None, email: str = None, password: str = None):\n",
    "    print(\"Username:\", username)\n",
    "    print(\"Email:\", email)\n",
    "    print(\"Password:\", password)\n"
   ]
  },
  {
   "cell_type": "code",
   "execution_count": 12,
   "metadata": {},
   "outputs": [
    {
     "name": "stdout",
     "output_type": "stream",
     "text": [
      "Username: nasir@emon\n",
      "Email: nasir.it@waltonbd.com\n",
      "Password: 78798\n"
     ]
    }
   ],
   "source": [
    "login(username=\"nasir@emon\", email=\"nasir.it@waltonbd.com\", password=\"78798\")"
   ]
  },
  {
   "cell_type": "markdown",
   "metadata": {},
   "source": [
    "# Dynamic **kwargs"
   ]
  },
  {
   "cell_type": "code",
   "execution_count": 23,
   "metadata": {},
   "outputs": [],
   "source": [
    "def login(**kwargs):\n",
    "    # print(kwargs)\n",
    "    for key, val in kwargs.items():\n",
    "        print(key, \":\", val)\n",
    "\n"
   ]
  },
  {
   "cell_type": "code",
   "execution_count": 26,
   "metadata": {},
   "outputs": [
    {
     "name": "stdout",
     "output_type": "stream",
     "text": [
      "username : abc@emon\n",
      "email : emon.it@waltonbd.com\n",
      "password : 78798\n",
      "phone : 46546546\n"
     ]
    }
   ],
   "source": [
    "login(username=\"abc@emon\", email=\"emon.it@waltonbd.com\", password=\"78798\", phone= \"46546546\")"
   ]
  }
 ],
 "metadata": {
  "interpreter": {
   "hash": "63b2014fe923bc11fc1089a45e8d8d32d8530e11d1dfc98edf4ada9c05eba13b"
  },
  "kernelspec": {
   "display_name": "Python 3.10.2 64-bit",
   "language": "python",
   "name": "python3"
  },
  "language_info": {
   "codemirror_mode": {
    "name": "ipython",
    "version": 3
   },
   "file_extension": ".py",
   "mimetype": "text/x-python",
   "name": "python",
   "nbconvert_exporter": "python",
   "pygments_lexer": "ipython3",
   "version": "3.10.2"
  },
  "orig_nbformat": 4
 },
 "nbformat": 4,
 "nbformat_minor": 2
}
