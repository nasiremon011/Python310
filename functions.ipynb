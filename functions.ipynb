{
 "cells": [
  {
   "cell_type": "markdown",
   "metadata": {},
   "source": [
    "# Functions\n"
   ]
  },
  {
   "cell_type": "code",
   "execution_count": 10,
   "metadata": {},
   "outputs": [
    {
     "name": "stdout",
     "output_type": "stream",
     "text": [
      "Hello world\n",
      "My name is yellow\n",
      "Welcome to Python!!\n"
     ]
    }
   ],
   "source": [
    "# Function definitions\n",
    "\n",
    "def greet():\n",
    "    print(\"Hello world\")\n",
    "    print(\"My name is yellow\")\n",
    "    print(\"Welcome to Python!!\")\n",
    "\n",
    "\n",
    "# Function Callings\n",
    "greet()\n"
   ]
  },
  {
   "cell_type": "markdown",
   "metadata": {},
   "source": [
    "# Function with args\n"
   ]
  },
  {
   "cell_type": "code",
   "execution_count": 53,
   "metadata": {},
   "outputs": [
    {
     "name": "stdout",
     "output_type": "stream",
     "text": [
      "This is event number\n"
     ]
    }
   ],
   "source": [
    "def is_event(num: int):\n",
    "    \"\"\"\n",
    "    This will check odd/event number\n",
    "    \"\"\"\n",
    "    if num % 2 == 0:\n",
    "        print(\"This is event number\")\n",
    "    else:\n",
    "        print(\"This is odd number\")\n",
    "\n",
    "is_event(4)\n"
   ]
  }
 ],
 "metadata": {
  "interpreter": {
   "hash": "63b2014fe923bc11fc1089a45e8d8d32d8530e11d1dfc98edf4ada9c05eba13b"
  },
  "kernelspec": {
   "display_name": "Python 3.10.2 64-bit",
   "language": "python",
   "name": "python3"
  },
  "language_info": {
   "codemirror_mode": {
    "name": "ipython",
    "version": 3
   },
   "file_extension": ".py",
   "mimetype": "text/x-python",
   "name": "python",
   "nbconvert_exporter": "python",
   "pygments_lexer": "ipython3",
   "version": "3.10.2"
  },
  "orig_nbformat": 4
 },
 "nbformat": 4,
 "nbformat_minor": 2
}
