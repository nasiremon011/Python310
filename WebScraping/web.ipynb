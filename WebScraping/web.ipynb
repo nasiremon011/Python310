{
 "cells": [
  {
   "cell_type": "markdown",
   "metadata": {},
   "source": [
    "## Web Scraping\n"
   ]
  },
  {
   "cell_type": "code",
   "execution_count": 2,
   "metadata": {},
   "outputs": [],
   "source": [
    "import requests\n"
   ]
  },
  {
   "cell_type": "code",
   "execution_count": 3,
   "metadata": {},
   "outputs": [
    {
     "data": {
      "text/plain": [
       "True"
      ]
     },
     "execution_count": 3,
     "metadata": {},
     "output_type": "execute_result"
    }
   ],
   "source": [
    "response = requests.get(\"https://www.google.com/\")\n",
    "response.status_code\n",
    "response.ok\n"
   ]
  },
  {
   "cell_type": "code",
   "execution_count": null,
   "metadata": {},
   "outputs": [],
   "source": [
    "response.content\n"
   ]
  },
  {
   "cell_type": "code",
   "execution_count": null,
   "metadata": {},
   "outputs": [],
   "source": [
    "response.text\n"
   ]
  },
  {
   "cell_type": "code",
   "execution_count": null,
   "metadata": {},
   "outputs": [],
   "source": [
    "response.headers\n"
   ]
  },
  {
   "cell_type": "code",
   "execution_count": null,
   "metadata": {},
   "outputs": [],
   "source": [
    "response.cookies\n"
   ]
  },
  {
   "cell_type": "markdown",
   "metadata": {},
   "source": [
    "## Working with API\n"
   ]
  },
  {
   "cell_type": "code",
   "execution_count": 4,
   "metadata": {},
   "outputs": [
    {
     "data": {
      "text/plain": [
       "200"
      ]
     },
     "execution_count": 4,
     "metadata": {},
     "output_type": "execute_result"
    }
   ],
   "source": [
    "#api_res = requests.get(\"https://restcountries.com/v2/name/bd\")\n",
    "\n",
    "api_res = requests.get(\"https://reqres.in/api/users?page=2\")\n",
    "api_res.status_code\n"
   ]
  },
  {
   "cell_type": "code",
   "execution_count": null,
   "metadata": {},
   "outputs": [],
   "source": [
    "api_res.text\n"
   ]
  },
  {
   "cell_type": "code",
   "execution_count": 5,
   "metadata": {},
   "outputs": [
    {
     "data": {
      "text/plain": [
       "{'id': 7,\n",
       " 'email': 'michael.lawson@reqres.in',\n",
       " 'first_name': 'Michael',\n",
       " 'last_name': 'Lawson',\n",
       " 'avatar': 'https://reqres.in/img/faces/7-image.jpg'}"
      ]
     },
     "execution_count": 5,
     "metadata": {},
     "output_type": "execute_result"
    }
   ],
   "source": [
    "api_res.json()['data'][0]\n"
   ]
  },
  {
   "cell_type": "code",
   "execution_count": 6,
   "metadata": {},
   "outputs": [],
   "source": [
    "\n",
    "api_data = []\n",
    "for page in range(1, 3):\n",
    "    api_res = requests.get(\"https://reqres.in/api/users\", params={\n",
    "        \"page\": page\n",
    "    })\n",
    "    api_data.extend(api_res.json()['data'])\n"
   ]
  },
  {
   "cell_type": "code",
   "execution_count": 7,
   "metadata": {},
   "outputs": [
    {
     "data": {
      "text/plain": [
       "[{'id': 1,\n",
       "  'email': 'george.bluth@reqres.in',\n",
       "  'first_name': 'George',\n",
       "  'last_name': 'Bluth',\n",
       "  'avatar': 'https://reqres.in/img/faces/1-image.jpg'},\n",
       " {'id': 2,\n",
       "  'email': 'janet.weaver@reqres.in',\n",
       "  'first_name': 'Janet',\n",
       "  'last_name': 'Weaver',\n",
       "  'avatar': 'https://reqres.in/img/faces/2-image.jpg'},\n",
       " {'id': 3,\n",
       "  'email': 'emma.wong@reqres.in',\n",
       "  'first_name': 'Emma',\n",
       "  'last_name': 'Wong',\n",
       "  'avatar': 'https://reqres.in/img/faces/3-image.jpg'},\n",
       " {'id': 4,\n",
       "  'email': 'eve.holt@reqres.in',\n",
       "  'first_name': 'Eve',\n",
       "  'last_name': 'Holt',\n",
       "  'avatar': 'https://reqres.in/img/faces/4-image.jpg'},\n",
       " {'id': 5,\n",
       "  'email': 'charles.morris@reqres.in',\n",
       "  'first_name': 'Charles',\n",
       "  'last_name': 'Morris',\n",
       "  'avatar': 'https://reqres.in/img/faces/5-image.jpg'},\n",
       " {'id': 6,\n",
       "  'email': 'tracey.ramos@reqres.in',\n",
       "  'first_name': 'Tracey',\n",
       "  'last_name': 'Ramos',\n",
       "  'avatar': 'https://reqres.in/img/faces/6-image.jpg'},\n",
       " {'id': 7,\n",
       "  'email': 'michael.lawson@reqres.in',\n",
       "  'first_name': 'Michael',\n",
       "  'last_name': 'Lawson',\n",
       "  'avatar': 'https://reqres.in/img/faces/7-image.jpg'},\n",
       " {'id': 8,\n",
       "  'email': 'lindsay.ferguson@reqres.in',\n",
       "  'first_name': 'Lindsay',\n",
       "  'last_name': 'Ferguson',\n",
       "  'avatar': 'https://reqres.in/img/faces/8-image.jpg'},\n",
       " {'id': 9,\n",
       "  'email': 'tobias.funke@reqres.in',\n",
       "  'first_name': 'Tobias',\n",
       "  'last_name': 'Funke',\n",
       "  'avatar': 'https://reqres.in/img/faces/9-image.jpg'},\n",
       " {'id': 10,\n",
       "  'email': 'byron.fields@reqres.in',\n",
       "  'first_name': 'Byron',\n",
       "  'last_name': 'Fields',\n",
       "  'avatar': 'https://reqres.in/img/faces/10-image.jpg'},\n",
       " {'id': 11,\n",
       "  'email': 'george.edwards@reqres.in',\n",
       "  'first_name': 'George',\n",
       "  'last_name': 'Edwards',\n",
       "  'avatar': 'https://reqres.in/img/faces/11-image.jpg'},\n",
       " {'id': 12,\n",
       "  'email': 'rachel.howell@reqres.in',\n",
       "  'first_name': 'Rachel',\n",
       "  'last_name': 'Howell',\n",
       "  'avatar': 'https://reqres.in/img/faces/12-image.jpg'}]"
      ]
     },
     "execution_count": 7,
     "metadata": {},
     "output_type": "execute_result"
    }
   ],
   "source": [
    "api_data\n"
   ]
  },
  {
   "cell_type": "code",
   "execution_count": 8,
   "metadata": {},
   "outputs": [
    {
     "name": "stdout",
     "output_type": "stream",
     "text": [
      "George https://reqres.in/img/faces/1-image.jpg\n"
     ]
    },
    {
     "ename": "FileNotFoundError",
     "evalue": "[Errno 2] No such file or directory: 'images\\\\George.jpg'",
     "output_type": "error",
     "traceback": [
      "\u001b[1;31m---------------------------------------------------------------------------\u001b[0m",
      "\u001b[1;31mFileNotFoundError\u001b[0m                         Traceback (most recent call last)",
      "\u001b[1;32me:\\Python\\Python Repository\\Python310\\WebScraping\\web.ipynb Cell 14'\u001b[0m in \u001b[0;36m<cell line: 1>\u001b[1;34m()\u001b[0m\n\u001b[0;32m      <a href='vscode-notebook-cell:/e%3A/Python/Python%20Repository/Python310/WebScraping/web.ipynb#ch0000013?line=2'>3</a>\u001b[0m image \u001b[39m=\u001b[39m requests\u001b[39m.\u001b[39mget(user[\u001b[39m'\u001b[39m\u001b[39mavatar\u001b[39m\u001b[39m'\u001b[39m])\n\u001b[0;32m      <a href='vscode-notebook-cell:/e%3A/Python/Python%20Repository/Python310/WebScraping/web.ipynb#ch0000013?line=3'>4</a>\u001b[0m name \u001b[39m=\u001b[39m user[\u001b[39m'\u001b[39m\u001b[39mfirst_name\u001b[39m\u001b[39m'\u001b[39m]\n\u001b[1;32m----> <a href='vscode-notebook-cell:/e%3A/Python/Python%20Repository/Python310/WebScraping/web.ipynb#ch0000013?line=4'>5</a>\u001b[0m \u001b[39mwith\u001b[39;00m \u001b[39mopen\u001b[39;49m(\u001b[39mf\u001b[39;49m\u001b[39m'\u001b[39;49m\u001b[39mimages\u001b[39;49m\u001b[39m\\\\\u001b[39;49;00m\u001b[39m{\u001b[39;49;00mname\u001b[39m}\u001b[39;49;00m\u001b[39m.jpg\u001b[39;49m\u001b[39m'\u001b[39;49m, mode\u001b[39m=\u001b[39;49m\u001b[39m'\u001b[39;49m\u001b[39mwb\u001b[39;49m\u001b[39m'\u001b[39;49m) \u001b[39mas\u001b[39;00m file:\n\u001b[0;32m      <a href='vscode-notebook-cell:/e%3A/Python/Python%20Repository/Python310/WebScraping/web.ipynb#ch0000013?line=5'>6</a>\u001b[0m     file\u001b[39m.\u001b[39mwrite(image\u001b[39m.\u001b[39mcontent)\n",
      "\u001b[1;31mFileNotFoundError\u001b[0m: [Errno 2] No such file or directory: 'images\\\\George.jpg'"
     ]
    }
   ],
   "source": [
    "for user in api_data:\n",
    "    print(user['first_name'], user['avatar'])\n",
    "    image = requests.get(user['avatar'])\n",
    "    name = user['first_name']\n",
    "    with open(f'images\\\\{name}.jpg', mode='wb') as file:\n",
    "        file.write(image.content)\n"
   ]
  }
 ],
 "metadata": {
  "interpreter": {
   "hash": "63b2014fe923bc11fc1089a45e8d8d32d8530e11d1dfc98edf4ada9c05eba13b"
  },
  "kernelspec": {
   "display_name": "Python 3.10.2 64-bit",
   "language": "python",
   "name": "python3"
  },
  "language_info": {
   "codemirror_mode": {
    "name": "ipython",
    "version": 3
   },
   "file_extension": ".py",
   "mimetype": "text/x-python",
   "name": "python",
   "nbconvert_exporter": "python",
   "pygments_lexer": "ipython3",
   "version": "3.10.2"
  },
  "orig_nbformat": 4
 },
 "nbformat": 4,
 "nbformat_minor": 2
}
