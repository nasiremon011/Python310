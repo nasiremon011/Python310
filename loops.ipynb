{
 "cells": [
  {
   "cell_type": "markdown",
   "metadata": {},
   "source": [
    "# WHIL Loop"
   ]
  },
  {
   "cell_type": "code",
   "execution_count": 1,
   "metadata": {},
   "outputs": [
    {
     "data": {
      "text/plain": [
       "[1, 4, 9, 16, 25, 36, 49, 64, 81, 100]"
      ]
     },
     "execution_count": 1,
     "metadata": {},
     "output_type": "execute_result"
    }
   ],
   "source": [
    "squares = []\n",
    "\n",
    "start = 1\n",
    "stop = 10\n",
    "num = start\n",
    "while num <= stop:\n",
    "    squares.append(num**2)\n",
    "    num = num + 1\n",
    "squares"
   ]
  },
  {
   "cell_type": "markdown",
   "metadata": {},
   "source": [
    "# Continue"
   ]
  },
  {
   "cell_type": "code",
   "execution_count": 5,
   "metadata": {},
   "outputs": [
    {
     "data": {
      "text/plain": [
       "[1, 4, 9, 16, 25, 36, 49, 64, 81]"
      ]
     },
     "execution_count": 5,
     "metadata": {},
     "output_type": "execute_result"
    }
   ],
   "source": [
    "squares = []\n",
    "\n",
    "start = 1\n",
    "stop = 100\n",
    "num = start\n",
    "while num <= stop:\n",
    "    s = num**2\n",
    "    num = num + 1\n",
    "    if s > 90:\n",
    "        continue\n",
    "    squares.append(s)\n",
    "    \n",
    "squares"
   ]
  },
  {
   "cell_type": "markdown",
   "metadata": {},
   "source": [
    "# Break"
   ]
  },
  {
   "cell_type": "code",
   "execution_count": 6,
   "metadata": {},
   "outputs": [
    {
     "data": {
      "text/plain": [
       "[1, 4, 9, 16, 25, 36, 49, 64]"
      ]
     },
     "execution_count": 6,
     "metadata": {},
     "output_type": "execute_result"
    }
   ],
   "source": [
    "squares = []\n",
    "\n",
    "start = 1\n",
    "stop = 100\n",
    "num = start\n",
    "while num <= stop:\n",
    "    s = num**2\n",
    "    if s > 80:\n",
    "        break\n",
    "    squares.append(num**2)\n",
    "    num = num + 1\n",
    "squares"
   ]
  },
  {
   "cell_type": "markdown",
   "metadata": {},
   "source": [
    "# For Loops"
   ]
  },
  {
   "cell_type": "code",
   "execution_count": 10,
   "metadata": {},
   "outputs": [
    {
     "name": "stdout",
     "output_type": "stream",
     "text": [
      "P\n",
      "y\n",
      "t\n",
      "h\n",
      "o\n",
      "n\n"
     ]
    }
   ],
   "source": [
    "for alpha in \"Python\":\n",
    "    print (alpha)"
   ]
  },
  {
   "cell_type": "code",
   "execution_count": 11,
   "metadata": {},
   "outputs": [
    {
     "name": "stdout",
     "output_type": "stream",
     "text": [
      "1\n",
      "2\n",
      "3\n",
      "4\n",
      "5\n",
      "6\n",
      "7\n"
     ]
    }
   ],
   "source": [
    "for num in [1,2,3,4,5,6,7]:\n",
    "    print(num)\n"
   ]
  },
  {
   "cell_type": "code",
   "execution_count": 12,
   "metadata": {},
   "outputs": [
    {
     "name": "stdout",
     "output_type": "stream",
     "text": [
      "1\n",
      "2\n",
      "3\n",
      "4\n",
      "6\n",
      "8\n",
      "9\n",
      "11\n",
      "55\n"
     ]
    }
   ],
   "source": [
    "for s in {1,2,3,3,4,4,55,6,8,8,9,11}:\n",
    "    print(s)"
   ]
  },
  {
   "cell_type": "markdown",
   "metadata": {},
   "source": [
    "# Key & Value"
   ]
  },
  {
   "cell_type": "code",
   "execution_count": 22,
   "metadata": {},
   "outputs": [
    {
     "name": "stdout",
     "output_type": "stream",
     "text": [
      "(1, 'abc')\n",
      "('n2', 10)\n",
      "('n3', 'ghi')\n"
     ]
    }
   ],
   "source": [
    "for item in {1:\"abc\", \"n2\":10, \"n3\":\"ghi\"}.items():\n",
    "    print(item)"
   ]
  },
  {
   "cell_type": "code",
   "execution_count": 23,
   "metadata": {},
   "outputs": [
    {
     "name": "stdout",
     "output_type": "stream",
     "text": [
      "1 => abc\n",
      "2 => 10\n",
      "3 => ghi\n"
     ]
    }
   ],
   "source": [
    "for key, value in {1:\"abc\", 2:10, 3:\"ghi\"}.items():\n",
    "    print(key, '=>', value)"
   ]
  },
  {
   "cell_type": "markdown",
   "metadata": {},
   "source": [
    "# Matrix"
   ]
  },
  {
   "cell_type": "code",
   "execution_count": 26,
   "metadata": {},
   "outputs": [
    {
     "name": "stdout",
     "output_type": "stream",
     "text": [
      "[2, 3, 4]\n",
      "[5, 2, 3]\n",
      "[4, 6, 8]\n"
     ]
    }
   ],
   "source": [
    "data = [\n",
    "    [2, 3, 4],\n",
    "    [5, 2, 3],\n",
    "    [4, 6, 8]\n",
    "]\n",
    "for row in data:\n",
    "    print(row)"
   ]
  },
  {
   "cell_type": "markdown",
   "metadata": {},
   "source": [
    "# Range"
   ]
  },
  {
   "cell_type": "code",
   "execution_count": 27,
   "metadata": {},
   "outputs": [
    {
     "data": {
      "text/plain": [
       "[1, 2, 3, 4, 5, 6, 7, 8, 9, 10, 11]"
      ]
     },
     "execution_count": 27,
     "metadata": {},
     "output_type": "execute_result"
    }
   ],
   "source": [
    "list(range(1,12))"
   ]
  },
  {
   "cell_type": "code",
   "execution_count": 29,
   "metadata": {},
   "outputs": [
    {
     "data": {
      "text/plain": [
       "['p', 'y', 't', 'h', 'o', 'n']"
      ]
     },
     "execution_count": 29,
     "metadata": {},
     "output_type": "execute_result"
    }
   ],
   "source": [
    "list(\"python\")"
   ]
  },
  {
   "cell_type": "code",
   "execution_count": 31,
   "metadata": {},
   "outputs": [
    {
     "data": {
      "text/plain": [
       "[1, 3, 5, 7, 9, 11, 13, 15, 17, 19]"
      ]
     },
     "execution_count": 31,
     "metadata": {},
     "output_type": "execute_result"
    }
   ],
   "source": [
    "list(range(1,20,2))"
   ]
  },
  {
   "cell_type": "code",
   "execution_count": 32,
   "metadata": {},
   "outputs": [
    {
     "data": {
      "text/plain": [
       "[1, 4, 7, 10, 13, 16, 19]"
      ]
     },
     "execution_count": 32,
     "metadata": {},
     "output_type": "execute_result"
    }
   ],
   "source": [
    "list(range(1,20,3))"
   ]
  },
  {
   "cell_type": "code",
   "execution_count": 36,
   "metadata": {},
   "outputs": [
    {
     "data": {
      "text/plain": [
       "[20, 19, 18, 17, 16, 15, 14, 13, 12, 11, 10, 9, 8, 7, 6, 5, 4, 3, 2, 1]"
      ]
     },
     "execution_count": 36,
     "metadata": {},
     "output_type": "execute_result"
    }
   ],
   "source": [
    "list(range(20,0,-1))"
   ]
  },
  {
   "cell_type": "code",
   "execution_count": 42,
   "metadata": {},
   "outputs": [
    {
     "name": "stdout",
     "output_type": "stream",
     "text": [
      "1\n",
      "4\n",
      "9\n",
      "16\n",
      "25\n",
      "36\n",
      "49\n",
      "64\n",
      "81\n"
     ]
    }
   ],
   "source": [
    "for num in list(range(1,10)):\n",
    "    print(num**2)"
   ]
  },
  {
   "cell_type": "code",
   "execution_count": 43,
   "metadata": {},
   "outputs": [
    {
     "name": "stdout",
     "output_type": "stream",
     "text": [
      "1\n",
      "9\n",
      "25\n",
      "49\n",
      "81\n"
     ]
    }
   ],
   "source": [
    "for num in list(range(1,10,2)):\n",
    "    print(num**2)"
   ]
  },
  {
   "cell_type": "code",
   "execution_count": 44,
   "metadata": {},
   "outputs": [
    {
     "data": {
      "text/plain": [
       "[1, 4, 27, 16, 125, 36, 343, 64, 729]"
      ]
     },
     "execution_count": 44,
     "metadata": {},
     "output_type": "execute_result"
    }
   ],
   "source": [
    "powers = []\n",
    "\n",
    "for num in list(range(1,10)):\n",
    "    if num%2 == 0:\n",
    "        powers.append(num**2)\n",
    "    else:\n",
    "        powers.append(num**3)\n",
    "powers"
   ]
  },
  {
   "cell_type": "markdown",
   "metadata": {},
   "source": [
    "# List Comprehension"
   ]
  },
  {
   "cell_type": "code",
   "execution_count": 70,
   "metadata": {},
   "outputs": [
    {
     "data": {
      "text/plain": [
       "[1, 4, 27, 16, 125, 36, 343, 64, 729, 100, 1331, 144, 2197, 196]"
      ]
     },
     "execution_count": 70,
     "metadata": {},
     "output_type": "execute_result"
    }
   ],
   "source": [
    "powerList = [ num**2 if num%2 == 0 else num**3 for num in list(range(1,15))]\n",
    "powerList"
   ]
  },
  {
   "cell_type": "code",
   "execution_count": 76,
   "metadata": {},
   "outputs": [
    {
     "data": {
      "text/plain": [
       "[4, 9, 16, 25, 4, 9, 16, 36, 64]"
      ]
     },
     "execution_count": 76,
     "metadata": {},
     "output_type": "execute_result"
    }
   ],
   "source": [
    "\"\"\"\n",
    "data = [\n",
    "    [2, 3, 4],\n",
    "    [5, 2, 3],\n",
    "    [4, 6, 8]\n",
    "]\n",
    "\"\"\"\n",
    "\n",
    "mData = [ col**2 for row in data for col in row ]\n",
    "mData"
   ]
  },
  {
   "cell_type": "code",
   "execution_count": 75,
   "metadata": {},
   "outputs": [
    {
     "name": "stdout",
     "output_type": "stream",
     "text": [
      "2 3 4\n",
      "5 2 3\n",
      "4 6 8\n"
     ]
    },
    {
     "data": {
      "text/plain": [
       "[[4, 9, 16], [25, 4, 9], [16, 36, 64]]"
      ]
     },
     "execution_count": 75,
     "metadata": {},
     "output_type": "execute_result"
    }
   ],
   "source": [
    "for c1,c2,c3 in data:\n",
    "    print(c1,c2,c3)\n",
    "    \n",
    "mData = [ [col**2 for col in row] for row in data]\n",
    "mData"
   ]
  },
  {
   "cell_type": "code",
   "execution_count": 80,
   "metadata": {},
   "outputs": [
    {
     "data": {
      "text/plain": [
       "(1, 4, 27, 16, 125, 36, 343, 64, 729, 100, 1331, 144, 2197, 196)"
      ]
     },
     "execution_count": 80,
     "metadata": {},
     "output_type": "execute_result"
    }
   ],
   "source": [
    "powersTuple = tuple(num**2 if num%2 == 0 else num**3 for num in list(range(1,15)))\n",
    "powersTuple"
   ]
  },
  {
   "cell_type": "code",
   "execution_count": 81,
   "metadata": {},
   "outputs": [
    {
     "data": {
      "text/plain": [
       "{1, 4, 16, 27, 36, 64, 100, 125, 144, 196, 343, 729, 1331, 2197}"
      ]
     },
     "execution_count": 81,
     "metadata": {},
     "output_type": "execute_result"
    }
   ],
   "source": [
    "powersTuple = set(num**2 if num%2 == 0 else num**3 for num in list(range(1,15)))\n",
    "powersTuple"
   ]
  },
  {
   "cell_type": "code",
   "execution_count": 84,
   "metadata": {},
   "outputs": [
    {
     "data": {
      "text/plain": [
       "{1: 1, 2: 4, 3: 27, 4: 16, 5: 125, 6: 36, 7: 343, 8: 64, 9: 729, 10: 100}"
      ]
     },
     "execution_count": 84,
     "metadata": {},
     "output_type": "execute_result"
    }
   ],
   "source": [
    "powerD = { num: num**2 if num%2 == 0 else num**3 for num in list(range(1,11))}\n",
    "powerD"
   ]
  },
  {
   "cell_type": "markdown",
   "metadata": {},
   "source": [
    "# Smart Door | password = 'open@'\n",
    "- That should take password from user\n",
    "- Match the password | Show wrong password, Try again or Door is opening\n",
    "- Maximum try is 3\n",
    "- Ask for security question's answer | fav_color = 'black'\n",
    "- If security answer is correct then help the user to reset password\n",
    "- Otherwise lock the door."
   ]
  },
  {
   "cell_type": "code",
   "execution_count": 86,
   "metadata": {},
   "outputs": [
    {
     "name": "stdout",
     "output_type": "stream",
     "text": [
      "Password is correct, Thank you!!\n"
     ]
    }
   ],
   "source": [
    "password=\"open@\"\n",
    "num=input(\"Enter a password\")\n",
    "if num == password:\n",
    "    print(\"Password is correct, Thank you!!\")\n",
    "elif num != password:\n",
    "    print(\"Password is incorrect, Try again 1st time\")\n",
    "elif num != password:\n",
    "    print(\"Password is incorrect, Try again 2nd time\")\n",
    "else:\n",
    "    print(\"You can't enter the room block!!!\")"
   ]
  },
  {
   "cell_type": "code",
   "execution_count": 87,
   "metadata": {},
   "outputs": [
    {
     "name": "stdout",
     "output_type": "stream",
     "text": [
      "Welcome...!!! Have a Good Day\n",
      "Please Open the Door with Authentication..!!!, Your user name is \"mehedi\"\n",
      "Input the Door Username\n",
      "User Name is not match..!! Please try again\n",
      "Input the Door Username\n",
      "User Name is not match..!! Please try again\n",
      "Input the Door Username\n",
      "User Name is not match..!! Please try again\n",
      "Input the Door Username\n",
      "User Name is not match..!! Please try again\n",
      "Input the Door Username\n",
      "Input the Door Password\n",
      "Wrong Password, Try Again.!!\n",
      "Wrong Password, Try Again.!!\n",
      "This User is Tamporary Block\n",
      "Input Your Security Question, What is the Feburite Color is? \n",
      "Security Question is wrong..!!\n",
      "User is Parmanently Block, You can try after 100 years later & Program is close..! bye, bye!\n"
     ]
    },
    {
     "data": {
      "text/plain": [
       "'\\nWelcome...!!! Have a Good Day\\nPlease Open the Door with Authentication..!!!, Your user name is \"mehedi\"\\nInput the Door Username\\nUser Name is not match..!! Please try again\\nInput the Door Username\\nUser Name is not match..!! Please try again\\nInput the Door Username\\nUser Name is not match..!! Please try again\\nInput the Door Username\\nInput the Door Password\\nWrong Password, Try Again.!!\\nWrong Password, Try Again.!!\\nDoor is Opening\\n\\n'"
      ]
     },
     "execution_count": 87,
     "metadata": {},
     "output_type": "execute_result"
    }
   ],
   "source": [
    "#Hi, I am Mehedi, This is my first Paython Assignment.\n",
    "# Hi, I am Mehedi, This is my first Paython Assignment.\n",
    "#Declaration\n",
    "v_pass = 'open@'\n",
    "v_seq_que = 'black'\n",
    "v_wc = 'Welcome...!!! Have a Good Day'\n",
    "v_auth = 'Please Open the Door with Authentication..!!!, Your user name is \"mehedi\"'\n",
    "\n",
    "\n",
    "print(v_wc)\n",
    "print(v_auth)\n",
    "print('Input the Door Username')\n",
    "v_uname = input('Input the Door Username : ')\n",
    "\n",
    "while v_uname != 'mehedi':\n",
    "    print('User Name is not match..!! Please try again')\n",
    "    print('Input the Door Username')\n",
    "    v_uname = input('Input the Door Username : ')\n",
    "    continue\n",
    "\n",
    "print('Input the Door Password')\n",
    "v_upass = input('Input the Door Password : ')\n",
    "\n",
    "for v_count in range(1, 4):\n",
    "    if v_upass == v_pass:\n",
    "        print('Door is Opening')\n",
    "        break\n",
    "    elif v_count < 3:\n",
    "        print('Wrong Password, Try Again.!!')\n",
    "        v_count = v_count + 1\n",
    "        v_upass = input('Input the Door Password : ')\n",
    "    elif v_count == 3:\n",
    "        print('This User is Tamporary Block')\n",
    "        print('Input Your Security Question, What is the Feburite Color is? ')\n",
    "        v_upass = input('What is the Feburite Color is?')\n",
    "        if v_seq_que == v_upass:\n",
    "            print('Welldone..!! Security Question Match')\n",
    "            print('Do you want reset password? Press 1 for Yes/ 2 for No:')\n",
    "            v_rec = input('Press 1 for Yes/ 2 for No :')\n",
    "\n",
    "            if v_rec != '1':\n",
    "                print(\n",
    "                    'Not a valid Input, You can try after 100 years later & Program is close..! bye, bye!')\n",
    "                break\n",
    "            else:\n",
    "                print('Input your New Pass')\n",
    "                v_new_pass = input('Input your New Pass :')\n",
    "                print('Input your Confirm Pass')\n",
    "                v_con_pass = input('Input your Confirm Pass :')\n",
    "                v_countss = 0\n",
    "\n",
    "                if v_new_pass == v_con_pass:\n",
    "                    print('Input the New Door Password Which is Set Now')\n",
    "                    v_upass = input(\n",
    "                        'Input the New Door Password Which is Set Now : ')\n",
    "                    if v_upass == v_new_pass:\n",
    "                        print('Door is Opening')\n",
    "                        break\n",
    "                    else:\n",
    "                        print('Wrong Password')\n",
    "                        print(\n",
    "                            'User is Parmanently Block, You can try after 100 years later & Program is close..! bye, bye!')\n",
    "                else:\n",
    "                    print('New Password and Confirm Pasword not Match')\n",
    "                    print(\n",
    "                        'User is Parmanently Block, You can try after 100 years later & Program is close..! bye, bye!')\n",
    "\n",
    "        else:\n",
    "            print('Security Question is wrong..!!')\n",
    "            print(\n",
    "                'User is Parmanently Block, You can try after 100 years later & Program is close..! bye, bye!')\n",
    "'''\n",
    "Welcome...!!! Have a Good Day\n",
    "Please Open the Door with Authentication..!!!, Your user name is \"mehedi\"\n",
    "Input the Door Username\n",
    "User Name is not match..!! Please try again\n",
    "Input the Door Username\n",
    "User Name is not match..!! Please try again\n",
    "Input the Door Username\n",
    "User Name is not match..!! Please try again\n",
    "Input the Door Username\n",
    "Input the Door Password\n",
    "Wrong Password, Try Again.!!\n",
    "Wrong Password, Try Again.!!\n",
    "Door is Opening\n",
    "\n",
    "'''\n"
   ]
  }
 ],
 "metadata": {
  "interpreter": {
   "hash": "63b2014fe923bc11fc1089a45e8d8d32d8530e11d1dfc98edf4ada9c05eba13b"
  },
  "kernelspec": {
   "display_name": "Python 3.10.2 64-bit",
   "language": "python",
   "name": "python3"
  },
  "language_info": {
   "codemirror_mode": {
    "name": "ipython",
    "version": 3
   },
   "file_extension": ".py",
   "mimetype": "text/x-python",
   "name": "python",
   "nbconvert_exporter": "python",
   "pygments_lexer": "ipython3",
   "version": "3.10.2"
  },
  "orig_nbformat": 4
 },
 "nbformat": 4,
 "nbformat_minor": 2
}
