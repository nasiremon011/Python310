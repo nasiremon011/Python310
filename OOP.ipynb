{
 "cells": [
  {
   "cell_type": "markdown",
   "metadata": {},
   "source": [
    "# OOP\n",
    "- Class\n",
    "- Object"
   ]
  },
  {
   "cell_type": "code",
   "execution_count": 28,
   "metadata": {},
   "outputs": [],
   "source": [
    "# Class\n",
    "class Product:\n",
    "    # Class features:\n",
    "    platform = 'Amazon'\n",
    "\n",
    "    # Constructor\n",
    "    def __init__(self, pid: int, title: str, price: float):\n",
    "        self.pid = pid\n",
    "        self.title = title\n",
    "        self.price = price\n",
    "\n",
    "    # Function Behavior or Methods\n",
    "    def getPrice(self) -> float:\n",
    "        return self.price\n",
    "\n",
    "    def updatePrice(self, newPrice: float) -> float:\n",
    "        self.price = newPrice\n",
    "        return self.price\n",
    "\n",
    "    # Special function\n",
    "    def __str__(self) -> str:\n",
    "        return f\"pid = {self.pid}, title = '{self.title}', price = {self.price}\"\n",
    "\n",
    "    def __repr__(self) -> str:\n",
    "        return self.__str__()\n"
   ]
  },
  {
   "cell_type": "markdown",
   "metadata": {},
   "source": [
    "# Creation a Object"
   ]
  },
  {
   "cell_type": "code",
   "execution_count": 30,
   "metadata": {},
   "outputs": [
    {
     "name": "stdout",
     "output_type": "stream",
     "text": [
      "pid = 545454, title = 'Nokia A2', price = 25000.0\n"
     ]
    },
    {
     "data": {
      "text/plain": [
       "pid = 545454, title = 'Nokia A2', price = 25000.0"
      ]
     },
     "execution_count": 30,
     "metadata": {},
     "output_type": "execute_result"
    }
   ],
   "source": [
    "x30 = Product(545454, 'Nokia A2', 25000.0) # Colling Constructor\n",
    "print(x30)   # __str__() function\n",
    "x30         # __repr__()"
   ]
  },
  {
   "cell_type": "code",
   "execution_count": 11,
   "metadata": {},
   "outputs": [
    {
     "data": {
      "text/plain": [
       "30000.0"
      ]
     },
     "execution_count": 11,
     "metadata": {},
     "output_type": "execute_result"
    }
   ],
   "source": [
    "# Object features\n",
    "x30.platform\n",
    "x30.title\n",
    "x30.price = 30000.0\n",
    "x30.price"
   ]
  },
  {
   "cell_type": "code",
   "execution_count": 12,
   "metadata": {},
   "outputs": [
    {
     "data": {
      "text/plain": [
       "40000"
      ]
     },
     "execution_count": 12,
     "metadata": {},
     "output_type": "execute_result"
    }
   ],
   "source": [
    "x30.updatePrice(40000)"
   ]
  },
  {
   "cell_type": "code",
   "execution_count": 18,
   "metadata": {},
   "outputs": [
    {
     "data": {
      "text/plain": [
       "12000"
      ]
     },
     "execution_count": 18,
     "metadata": {},
     "output_type": "execute_result"
    }
   ],
   "source": [
    "x20 = Product(1234, 'Nokia x20', 50000.0)\n",
    "x20.price\n",
    "x20.updatePrice(12000)"
   ]
  }
 ],
 "metadata": {
  "interpreter": {
   "hash": "63b2014fe923bc11fc1089a45e8d8d32d8530e11d1dfc98edf4ada9c05eba13b"
  },
  "kernelspec": {
   "display_name": "Python 3.10.2 64-bit",
   "language": "python",
   "name": "python3"
  },
  "language_info": {
   "codemirror_mode": {
    "name": "ipython",
    "version": 3
   },
   "file_extension": ".py",
   "mimetype": "text/x-python",
   "name": "python",
   "nbconvert_exporter": "python",
   "pygments_lexer": "ipython3",
   "version": "3.10.2"
  },
  "orig_nbformat": 4
 },
 "nbformat": 4,
 "nbformat_minor": 2
}
