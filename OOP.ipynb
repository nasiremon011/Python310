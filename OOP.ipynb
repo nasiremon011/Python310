{
 "cells": [
  {
   "cell_type": "markdown",
   "metadata": {},
   "source": [
    "# OOP\n",
    "- Class\n",
    "- Object"
   ]
  },
  {
   "cell_type": "code",
   "execution_count": 123,
   "metadata": {},
   "outputs": [],
   "source": [
    "# Class\n",
    "class Product:\n",
    "    # Class features:\n",
    "    platform = 'Amazon'\n",
    "\n",
    "    # Constructor\n",
    "    def __init__(self, pid: int, title: str, price: float):\n",
    "        self.pid = pid\n",
    "        self.title = title\n",
    "        self.price = price\n",
    "\n",
    "    # Function Behavior or Methods\n",
    "    def getPrice(self) -> float:\n",
    "        return self.price\n",
    "\n",
    "    def updatePrice(self, newPrice: float) -> float:\n",
    "        self.price = newPrice\n",
    "        return self.price\n",
    "\n",
    "    # Special function\n",
    "    def __str__(self) -> str:\n",
    "        return f\"pid = {self.pid}, title = '{self.title}', price = {self.price}\"\n",
    "\n",
    "    def __repr__(self) -> str:\n",
    "        return self.__str__()\n"
   ]
  },
  {
   "cell_type": "markdown",
   "metadata": {},
   "source": [
    "# Creation a Object"
   ]
  },
  {
   "cell_type": "code",
   "execution_count": 124,
   "metadata": {},
   "outputs": [
    {
     "name": "stdout",
     "output_type": "stream",
     "text": [
      "pid = 545454, title = 'Nokia A2', price = 25000.0\n"
     ]
    },
    {
     "data": {
      "text/plain": [
       "pid = 545454, title = 'Nokia A2', price = 25000.0"
      ]
     },
     "execution_count": 124,
     "metadata": {},
     "output_type": "execute_result"
    }
   ],
   "source": [
    "x30 = Product(545454, 'Nokia A2', 25000.0) # Colling Constructor\n",
    "print(x30)   # __str__() function\n",
    "x30         # __repr__()"
   ]
  },
  {
   "cell_type": "code",
   "execution_count": 125,
   "metadata": {},
   "outputs": [
    {
     "data": {
      "text/plain": [
       "30000.0"
      ]
     },
     "execution_count": 125,
     "metadata": {},
     "output_type": "execute_result"
    }
   ],
   "source": [
    "# Object features\n",
    "x30.platform\n",
    "x30.title\n",
    "x30.price = 30000.0\n",
    "x30.price"
   ]
  },
  {
   "cell_type": "code",
   "execution_count": 126,
   "metadata": {},
   "outputs": [
    {
     "data": {
      "text/plain": [
       "40000"
      ]
     },
     "execution_count": 126,
     "metadata": {},
     "output_type": "execute_result"
    }
   ],
   "source": [
    "x30.updatePrice(40000)"
   ]
  },
  {
   "cell_type": "code",
   "execution_count": 127,
   "metadata": {},
   "outputs": [
    {
     "data": {
      "text/plain": [
       "12000"
      ]
     },
     "execution_count": 127,
     "metadata": {},
     "output_type": "execute_result"
    }
   ],
   "source": [
    "x20 = Product(1234, 'Nokia x20', 50000.0)\n",
    "x20.price\n",
    "x20.updatePrice(12000)"
   ]
  },
  {
   "cell_type": "markdown",
   "metadata": {},
   "source": [
    "# Getter, Setter, Deleter\n",
    "# Secret Code"
   ]
  },
  {
   "cell_type": "code",
   "execution_count": 140,
   "metadata": {},
   "outputs": [],
   "source": [
    "# Class\n",
    "class Product:\n",
    "    # Class features:\n",
    "    platform = 'Amazon'\n",
    "\n",
    "    # Constructor\n",
    "    def __init__(self, pid: int, title: str, price: float):\n",
    "        self.pid = pid\n",
    "        self.title = title\n",
    "        self.price = price\n",
    "        self.__secretCode = 4545454\n",
    "\n",
    "    # Function Behavior or Methods\n",
    "    @property\n",
    "    def secretCode(self) -> float:          # Getter function\n",
    "        return self.__secretCode\n",
    "\n",
    "    @secretCode.setter\n",
    "    def secretCode(self, newCode: int):          # Setter function\n",
    "        self.__secretCode = newCode\n",
    "\n",
    "    @secretCode.deleter\n",
    "    def secretCode(self):          # Deleter function\n",
    "        del self.__secretCode\n",
    "        \n",
    "    # Special function\n",
    "    def __str__(self) -> str:\n",
    "        return f\"pid = {self.pid}, title = '{self.title}', price = {self.price}\"\n",
    "\n",
    "    def __repr__(self) -> str:\n",
    "        return self.__str__()\n",
    "    \n",
    "    def __gt__(self, others):\n",
    "        return self.price > others.price\n",
    "    \n",
    "    def __lt__(self, others):\n",
    "        return self.price < others.price\n",
    "\n",
    "    def __eq__(self, others):\n",
    "        return self.price == others.price\n",
    "\n",
    "    def __ge__(self, others):\n",
    "        return self.price >= others.price\n",
    "\n",
    "    @classmethod\n",
    "    def objectFromStr(cls, string: str):\n",
    "        data = string.split('-')\n",
    "        obj = cls(int(data[0]), data[1], float(data[2]))\n",
    "        return obj\n",
    "    \n",
    "    @staticmethod\n",
    "    def add(a: int, b: int) -> int:\n",
    "        return a+b\n",
    "    "
   ]
  },
  {
   "cell_type": "code",
   "execution_count": 129,
   "metadata": {},
   "outputs": [
    {
     "data": {
      "text/plain": [
       "pid = 123, title = 'Nokia X40', price = 12000.0"
      ]
     },
     "execution_count": 129,
     "metadata": {},
     "output_type": "execute_result"
    }
   ],
   "source": [
    "x40 = Product(123, 'Nokia X40', 12000.0)\n",
    "x40"
   ]
  },
  {
   "cell_type": "code",
   "execution_count": 130,
   "metadata": {},
   "outputs": [
    {
     "data": {
      "text/plain": [
       "4545454"
      ]
     },
     "execution_count": 130,
     "metadata": {},
     "output_type": "execute_result"
    }
   ],
   "source": [
    "x40.secretCode          # Colling Getter\n"
   ]
  },
  {
   "cell_type": "code",
   "execution_count": 131,
   "metadata": {},
   "outputs": [],
   "source": [
    "x40.secretCode = 12121212       # Calling setter"
   ]
  },
  {
   "cell_type": "code",
   "execution_count": 132,
   "metadata": {},
   "outputs": [],
   "source": [
    "del x40.secretCode"
   ]
  },
  {
   "cell_type": "markdown",
   "metadata": {},
   "source": [
    "# Operator Overloading"
   ]
  },
  {
   "cell_type": "code",
   "execution_count": 133,
   "metadata": {},
   "outputs": [
    {
     "data": {
      "text/plain": [
       "pid = 12543, title = 'Nokia X50', price = 122000.0"
      ]
     },
     "execution_count": 133,
     "metadata": {},
     "output_type": "execute_result"
    }
   ],
   "source": [
    "x50 = Product(12543, 'Nokia X50', 122000.0)\n",
    "x50"
   ]
  },
  {
   "cell_type": "code",
   "execution_count": 134,
   "metadata": {},
   "outputs": [
    {
     "data": {
      "text/plain": [
       "False"
      ]
     },
     "execution_count": 134,
     "metadata": {},
     "output_type": "execute_result"
    }
   ],
   "source": [
    "x40 > x50\n",
    "\n",
    "x40 == x50\n"
   ]
  },
  {
   "cell_type": "code",
   "execution_count": 135,
   "metadata": {},
   "outputs": [
    {
     "data": {
      "text/plain": [
       "True"
      ]
     },
     "execution_count": 135,
     "metadata": {},
     "output_type": "execute_result"
    }
   ],
   "source": [
    "x40 < x50\n"
   ]
  },
  {
   "cell_type": "code",
   "execution_count": 139,
   "metadata": {},
   "outputs": [
    {
     "data": {
      "text/plain": [
       "pid = 12543, title = 'Nokia X50', price = 122000.0"
      ]
     },
     "execution_count": 139,
     "metadata": {},
     "output_type": "execute_result"
    }
   ],
   "source": [
    "# Classmethod\n",
    "Product.objectFromStr(\"12543-Nokia X50-122000.0\")   \n"
   ]
  },
  {
   "cell_type": "code",
   "execution_count": 141,
   "metadata": {},
   "outputs": [
    {
     "data": {
      "text/plain": [
       "70"
      ]
     },
     "execution_count": 141,
     "metadata": {},
     "output_type": "execute_result"
    }
   ],
   "source": [
    "# Staticmethod\n",
    "\n",
    "Product.add(20,50)"
   ]
  },
  {
   "cell_type": "markdown",
   "metadata": {},
   "source": [
    "# Assignments\n",
    "\n",
    "# Online Banking system\n",
    "# Name, Email, Phone, Address\n",
    "# Accounts :  Creation, Update, Closing, Pin Change\n",
    "# Transaction Operator : Deposit, Withdraw, Transfer"
   ]
  }
 ],
 "metadata": {
  "interpreter": {
   "hash": "63b2014fe923bc11fc1089a45e8d8d32d8530e11d1dfc98edf4ada9c05eba13b"
  },
  "kernelspec": {
   "display_name": "Python 3.10.2 64-bit",
   "language": "python",
   "name": "python3"
  },
  "language_info": {
   "codemirror_mode": {
    "name": "ipython",
    "version": 3
   },
   "file_extension": ".py",
   "mimetype": "text/x-python",
   "name": "python",
   "nbconvert_exporter": "python",
   "pygments_lexer": "ipython3",
   "version": "3.10.2"
  },
  "orig_nbformat": 4
 },
 "nbformat": 4,
 "nbformat_minor": 2
}
